{
 "cells": [
  {
   "cell_type": "code",
   "execution_count": 1,
   "id": "bf851206-371a-4b8e-bd55-8630da7f5d07",
   "metadata": {},
   "outputs": [
    {
     "name": "stdout",
     "output_type": "stream",
     "text": [
      "ROC AUC на валидационном наборе: 0.6916701079582326\n",
      "ROC AUC на тестовом наборе: 0.6512886090891206\n",
      "NDCG@10 на тестовом наборе: 0.10491545769332042\n"
     ]
    }
   ],
   "source": [
    "import pandas as pd\n",
    "from xgboost import XGBClassifier\n",
    "from sklearn.metrics import roc_auc_score\n",
    "from sklearn.model_selection import train_test_split\n",
    "import numpy as np\n",
    "\n",
    "# Функции для расчета NDCG\n",
    "def dcg_at_k(r, k):\n",
    "    r = np.asfarray(r)[:k]\n",
    "    if r.size:\n",
    "        return np.sum(np.subtract(np.power(2, r), 1) / np.log2(np.arange(2, r.size + 2)))\n",
    "    return 0\n",
    "\n",
    "def ndcg_at_k(r, k):\n",
    "    dcg_max = dcg_at_k(sorted(r, reverse=True), k)\n",
    "    if not dcg_max:\n",
    "        return 0\n",
    "    return dcg_at_k(r, k) / dcg_max\n",
    "\n",
    "def calculate_ndcg(df, k):\n",
    "    ndcg_scores = []\n",
    "    for _, group in df.groupby('search_id'):\n",
    "        relevance = group['target'].values\n",
    "        ndcg_scores.append(ndcg_at_k(relevance, k))\n",
    "    return np.mean(ndcg_scores)\n",
    "\n",
    "# Загрузка данных\n",
    "train_data = pd.read_csv(\"train_df.csv\")\n",
    "test_data = pd.read_csv(\"test_df.csv\")\n",
    "\n",
    "# Подготовка данных\n",
    "X_train = train_data.drop(columns=[\"search_id\", \"target\"])\n",
    "y_train = train_data[\"target\"]\n",
    "\n",
    "X_test = test_data.drop(columns=[\"search_id\", \"target\"])\n",
    "y_test = test_data[\"target\"]\n",
    "\n",
    "# Разделение данных на обучающий и валидационный наборы\n",
    "X_train, X_valid, y_train, y_valid = train_test_split(X_train, y_train, test_size=0.2, random_state=42)\n",
    "\n",
    "# Инициализация и обучение модели\n",
    "model = XGBClassifier()\n",
    "model.fit(X_train, y_train)\n",
    "\n",
    "# Предсказание на валидационном наборе и оценка качества модели\n",
    "y_pred_proba = model.predict_proba(X_valid)[:, 1]\n",
    "auc_score = roc_auc_score(y_valid, y_pred_proba)\n",
    "print(f\"ROC AUC на валидационном наборе: {auc_score}\")\n",
    "\n",
    "# Предсказание на тестовом наборе\n",
    "y_test_pred_proba = model.predict_proba(X_test)[:, 1]\n",
    "\n",
    "# Оценка качества модели на тестовом наборе, если есть соответствующие метки\n",
    "test_auc_score = roc_auc_score(y_test, y_test_pred_proba)\n",
    "print(f\"ROC AUC на тестовом наборе: {test_auc_score}\")\n",
    "\n",
    "# Расчет NDCG на тестовом наборе\n",
    "ndcg_10 = calculate_ndcg(test_data, k=10)\n",
    "print(f\"NDCG@10 на тестовом наборе: {ndcg_10}\")\n"
   ]
  },
  {
   "cell_type": "code",
   "execution_count": null,
   "id": "b3f30eea-e690-4ee1-aae0-0b6aa412ef7f",
   "metadata": {},
   "outputs": [],
   "source": []
  }
 ],
 "metadata": {
  "kernelspec": {
   "display_name": "Python 3 (ipykernel)",
   "language": "python",
   "name": "python3"
  },
  "language_info": {
   "codemirror_mode": {
    "name": "ipython",
    "version": 3
   },
   "file_extension": ".py",
   "mimetype": "text/x-python",
   "name": "python",
   "nbconvert_exporter": "python",
   "pygments_lexer": "ipython3",
   "version": "3.11.7"
  }
 },
 "nbformat": 4,
 "nbformat_minor": 5
}
